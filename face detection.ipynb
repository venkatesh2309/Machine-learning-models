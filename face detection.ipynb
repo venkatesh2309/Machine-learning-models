{
 "cells": [
  {
   "cell_type": "code",
   "execution_count": 1,
   "metadata": {},
   "outputs": [],
   "source": [
    "import cvlib as cv"
   ]
  },
  {
   "cell_type": "code",
   "execution_count": 2,
   "metadata": {},
   "outputs": [],
   "source": [
    "import sys"
   ]
  },
  {
   "cell_type": "code",
   "execution_count": 3,
   "metadata": {},
   "outputs": [],
   "source": [
    "import cv2 ## opencv"
   ]
  },
  {
   "cell_type": "code",
   "execution_count": 4,
   "metadata": {},
   "outputs": [],
   "source": [
    "import os ## interacting with operating system"
   ]
  },
  {
   "cell_type": "code",
   "execution_count": 5,
   "metadata": {},
   "outputs": [],
   "source": [
    "## read the image \n",
    "path= r\"C:\\Users\\venkatesh\\Pictures\\Saved Pictures\\summa\\trump.jpg\"\n",
    "image = cv2.imread(path)"
   ]
  },
  {
   "cell_type": "code",
   "execution_count": 6,
   "metadata": {},
   "outputs": [
    {
     "data": {
      "text/plain": [
       "array([[[ 67,  19,  17],\n",
       "        [ 70,  25,  22],\n",
       "        [ 76,  31,  28],\n",
       "        ...,\n",
       "        [219, 166, 146],\n",
       "        [219, 166, 146],\n",
       "        [219, 166, 146]],\n",
       "\n",
       "       [[ 68,  20,  18],\n",
       "        [ 69,  24,  21],\n",
       "        [ 71,  28,  25],\n",
       "        ...,\n",
       "        [219, 166, 146],\n",
       "        [219, 166, 146],\n",
       "        [219, 166, 146]],\n",
       "\n",
       "       [[ 67,  22,  19],\n",
       "        [ 64,  21,  18],\n",
       "        [ 68,  25,  22],\n",
       "        ...,\n",
       "        [218, 165, 145],\n",
       "        [218, 165, 145],\n",
       "        [218, 165, 145]],\n",
       "\n",
       "       ...,\n",
       "\n",
       "       [[ 37,  24,  26],\n",
       "        [ 37,  24,  26],\n",
       "        [ 36,  23,  25],\n",
       "        ...,\n",
       "        [  4,   2,   2],\n",
       "        [  4,   2,   2],\n",
       "        [  3,   1,   1]],\n",
       "\n",
       "       [[ 37,  24,  26],\n",
       "        [ 37,  24,  26],\n",
       "        [ 36,  23,  25],\n",
       "        ...,\n",
       "        [  4,   2,   2],\n",
       "        [  4,   2,   2],\n",
       "        [  3,   1,   1]],\n",
       "\n",
       "       [[ 37,  24,  26],\n",
       "        [ 37,  24,  26],\n",
       "        [ 36,  23,  25],\n",
       "        ...,\n",
       "        [  4,   2,   2],\n",
       "        [  4,   2,   2],\n",
       "        [  3,   1,   1]]], dtype=uint8)"
      ]
     },
     "execution_count": 6,
     "metadata": {},
     "output_type": "execute_result"
    }
   ],
   "source": [
    "image"
   ]
  },
  {
   "cell_type": "code",
   "execution_count": 7,
   "metadata": {},
   "outputs": [],
   "source": [
    "## apply face detection\n",
    "faces, confidences = cv.detect_face(image)"
   ]
  },
  {
   "cell_type": "code",
   "execution_count": 8,
   "metadata": {},
   "outputs": [
    {
     "name": "stdout",
     "output_type": "stream",
     "text": [
      "[[75, 36, 130, 113]]\n"
     ]
    }
   ],
   "source": [
    "print(faces) ## x-axis,y-axis,height,width"
   ]
  },
  {
   "cell_type": "code",
   "execution_count": 9,
   "metadata": {},
   "outputs": [
    {
     "name": "stdout",
     "output_type": "stream",
     "text": [
      "[0.99999595]\n"
     ]
    }
   ],
   "source": [
    "print(confidences)"
   ]
  },
  {
   "cell_type": "code",
   "execution_count": 10,
   "metadata": {},
   "outputs": [],
   "source": [
    "## loop through detected faces \n",
    "for face,conf in zip(faces,confidences):\n",
    "    (startX,startY) = face[0],face[1]  ## axis\n",
    "    (endX,endY) =  face[2],face[3] ## height and width\n",
    "    ## draw rectangle over face\n",
    "    cv2.rectangle(image, (startX,startY), (endX,endY), (0,255,0),2) ## (0,255,0) is for rectangle frame colour "
   ]
  },
  {
   "cell_type": "code",
   "execution_count": 13,
   "metadata": {},
   "outputs": [
    {
     "data": {
      "text/plain": [
       "-1"
      ]
     },
     "execution_count": 13,
     "metadata": {},
     "output_type": "execute_result"
    }
   ],
   "source": [
    "## display output\n",
    "## press any key to close window.\n",
    "cv2.imshow(\"face detection\",image)\n",
    "cv2.waitKey()"
   ]
  },
  {
   "cell_type": "code",
   "execution_count": 14,
   "metadata": {},
   "outputs": [
    {
     "data": {
      "text/plain": [
       "True"
      ]
     },
     "execution_count": 14,
     "metadata": {},
     "output_type": "execute_result"
    }
   ],
   "source": [
    "# save output\n",
    "cv2.imwrite(\"face_detection.jpg\", image)"
   ]
  },
  {
   "cell_type": "code",
   "execution_count": null,
   "metadata": {},
   "outputs": [],
   "source": []
  },
  {
   "cell_type": "code",
   "execution_count": null,
   "metadata": {},
   "outputs": [],
   "source": []
  },
  {
   "cell_type": "code",
   "execution_count": null,
   "metadata": {},
   "outputs": [],
   "source": []
  },
  {
   "cell_type": "code",
   "execution_count": null,
   "metadata": {},
   "outputs": [],
   "source": []
  },
  {
   "cell_type": "code",
   "execution_count": null,
   "metadata": {},
   "outputs": [],
   "source": []
  }
 ],
 "metadata": {
  "kernelspec": {
   "display_name": "Python 3",
   "language": "python",
   "name": "python3"
  },
  "language_info": {
   "codemirror_mode": {
    "name": "ipython",
    "version": 3
   },
   "file_extension": ".py",
   "mimetype": "text/x-python",
   "name": "python",
   "nbconvert_exporter": "python",
   "pygments_lexer": "ipython3",
   "version": "3.7.3"
  }
 },
 "nbformat": 4,
 "nbformat_minor": 4
}
